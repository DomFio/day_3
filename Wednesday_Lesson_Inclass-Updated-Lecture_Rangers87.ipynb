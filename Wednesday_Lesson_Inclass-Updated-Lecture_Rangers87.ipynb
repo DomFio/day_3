{
 "cells": [
  {
   "cell_type": "markdown",
   "metadata": {},
   "source": [
    "# Dictionaries, Sets, & Importing Modules"
   ]
  },
  {
   "cell_type": "markdown",
   "metadata": {},
   "source": [
    "## Tasks Today:\n",
    "\n",
    "1) Dictionary <br>\n",
    " &nbsp;&nbsp;&nbsp;&nbsp; a) Declaring (key, value) <br>\n",
    " &nbsp;&nbsp;&nbsp;&nbsp; b) Accessing Values <br>\n",
    " &nbsp;&nbsp;&nbsp;&nbsp; ------ Exercise #1 - Print the eye color of each person in a double nested dict <br>\n",
    " &nbsp;&nbsp;&nbsp;&nbsp; c) Adding New Pairs <br>\n",
    " &nbsp;&nbsp;&nbsp;&nbsp; d) Modifying Values <br>\n",
    " &nbsp;&nbsp;&nbsp;&nbsp; e) Removing Key, Value Pairs <br>\n",
    " &nbsp;&nbsp;&nbsp;&nbsp; f) Looping a Dictionary <br>\n",
    " &nbsp;&nbsp;&nbsp;&nbsp; g) Looping Only Keys <br>\n",
    " &nbsp;&nbsp;&nbsp;&nbsp; h) Looping Only Values <br>\n",
    " &nbsp;&nbsp;&nbsp;&nbsp; ------ Exercise #2 - Create a Function that Prints All Key Value Pairs within a print .format()  <br>\n",
    " &nbsp;&nbsp;&nbsp;&nbsp; i) sorted() <br>\n",
    " &nbsp;&nbsp;&nbsp;&nbsp; j) Lists with Dictionaries <br>\n",
    " &nbsp;&nbsp;&nbsp;&nbsp; k) Dictionaries with Lists <br>\n",
    " &nbsp;&nbsp;&nbsp;&nbsp; l) Dictionaries with Dictionaries <br>\n",
    " &nbsp;&nbsp;&nbsp;&nbsp; ------ Exercise #3 - Write a Function that asks someone's name and address, and then stores that into a dictionary, which prints all names and addresses after they're done putting information in...  <br>\n",
    "2) Dictionaries vs. Lists (over time)<br>\n",
    "3) Set <br>\n",
    " &nbsp;&nbsp;&nbsp;&nbsp; a) Declaring <br>\n",
    " &nbsp;&nbsp;&nbsp;&nbsp; b) .add() <br>\n",
    " &nbsp;&nbsp;&nbsp;&nbsp; c) .remove() <br>\n",
    " &nbsp;&nbsp;&nbsp;&nbsp; d) .union() <br>\n",
    " &nbsp;&nbsp;&nbsp;&nbsp; e) .intersection() <br>\n",
    " &nbsp;&nbsp;&nbsp;&nbsp; f) .difference() <br>\n",
    " &nbsp;&nbsp;&nbsp;&nbsp; g) Frozen Set <br>\n",
    "4) Modules <br>\n",
    " &nbsp;&nbsp;&nbsp;&nbsp; a) Importing Entire Modules <br>\n",
    " &nbsp;&nbsp;&nbsp;&nbsp; b) Importing Methods Only <br>\n",
    " &nbsp;&nbsp;&nbsp;&nbsp; c) Using the 'as' Keyword <br>\n",
    " &nbsp;&nbsp;&nbsp;&nbsp; d) Creating a Module <br>\n",
    "5) Exercises <br>\n",
    " &nbsp;&nbsp;&nbsp;&nbsp; a) Build a Shopping Cart <br>\n",
    " &nbsp;&nbsp;&nbsp;&nbsp; b) Create Your Own Module <br>"
   ]
  },
  {
   "cell_type": "markdown",
   "metadata": {},
   "source": [
    "## Dictionary <br>\n",
    "<p>A collection of data with 'key:value' pairs. Dictionaries are ordered as of Python 3.6</p>"
   ]
  },
  {
   "cell_type": "markdown",
   "metadata": {},
   "source": [
    "##### Declaring (key, value)"
   ]
  },
  {
   "cell_type": "code",
   "execution_count": 1,
   "metadata": {},
   "outputs": [],
   "source": [
    "# keys should be unique\n",
    "# can use numbers or strings as keys\n",
    "d_1 = {}\n",
    "\n",
    "#or\n",
    "\n",
    "d_2 = dict()\n",
    "\n",
    "d_3 = {\n",
    "    \"Tom\" : '255 Main Street',\n",
    "    \"Jerry\" : '256 Main Street',\n",
    "    0 : \"This is a value for the key of 0\"\n",
    "}"
   ]
  },
  {
   "cell_type": "markdown",
   "metadata": {},
   "source": [
    "##### Accessing Values"
   ]
  },
  {
   "cell_type": "code",
   "execution_count": 3,
   "metadata": {},
   "outputs": [
    {
     "data": {
      "text/plain": [
       "'This is a value for the key of 0'"
      ]
     },
     "execution_count": 3,
     "metadata": {},
     "output_type": "execute_result"
    }
   ],
   "source": [
    "# dict[key]\n",
    "d_3['Jerry']\n",
    "d_3[0]\n",
    "\n"
   ]
  },
  {
   "cell_type": "markdown",
   "metadata": {},
   "source": [
    "## In-Class Exercise #1 - Print a formatted statement from the dictionary below <br>\n",
    "<p>The output should be '2018 Chevrolet Silverado'</p>"
   ]
  },
  {
   "cell_type": "code",
   "execution_count": 18,
   "metadata": {},
   "outputs": [
    {
     "name": "stdout",
     "output_type": "stream",
     "text": [
      "This is a  2018 Chevrolet Silverado\n"
     ]
    }
   ],
   "source": [
    "# use the dict below\n",
    "truck = {\n",
    "    \"year\": 2018,\n",
    "    'make': 'Chevrolet',\n",
    "    'model': 'Silverado'\n",
    "}\n",
    "\n",
    "print(f\"This is a \", truck['year'], truck['make'], truck['model'])"
   ]
  },
  {
   "cell_type": "markdown",
   "metadata": {},
   "source": [
    "##### Adding New Pairs"
   ]
  },
  {
   "cell_type": "code",
   "execution_count": 21,
   "metadata": {},
   "outputs": [
    {
     "name": "stdout",
     "output_type": "stream",
     "text": [
      "{'Tom': '255 Main Street', 'Jerry': '256 Main Street', 0: 'This is a value for the key of 0', 'Spike': '257 Main Street'}\n"
     ]
    },
    {
     "data": {
      "text/plain": [
       "{'Tom': '255 Main Street',\n",
       " 'Jerry': '256 Main Street',\n",
       " 0: 'This is a value for the key of 0',\n",
       " 'Spike': '257 Main Street'}"
      ]
     },
     "execution_count": 21,
     "metadata": {},
     "output_type": "execute_result"
    }
   ],
   "source": [
    "# dict[key] = value\n",
    "d_3['Spike'] = \"257 Main Street\"\n",
    "print(d_3)\n",
    "d_3"
   ]
  },
  {
   "cell_type": "markdown",
   "metadata": {},
   "source": [
    "##### Modifying Values"
   ]
  },
  {
   "cell_type": "code",
   "execution_count": 24,
   "metadata": {},
   "outputs": [
    {
     "data": {
      "text/plain": [
       "'257 Main Street Chicago,IL 60607'"
      ]
     },
     "execution_count": 24,
     "metadata": {},
     "output_type": "execute_result"
    }
   ],
   "source": [
    "# dict[key] = value\n",
    "placeholder = d_3['Spike']\n",
    "\n",
    "d_3['Spike'] = placeholder + ' 60607'\n",
    "\n",
    "d_3\n",
    "\n",
    "d_3['Spike']"
   ]
  },
  {
   "cell_type": "markdown",
   "metadata": {},
   "source": [
    "##### Removing Key, Value Pairs"
   ]
  },
  {
   "cell_type": "code",
   "execution_count": 25,
   "metadata": {},
   "outputs": [
    {
     "data": {
      "text/plain": [
       "{'Tom': '255 Main Street',\n",
       " 'Jerry': '256 Main Street',\n",
       " 'Spike': '257 Main Street Chicago,IL 60607'}"
      ]
     },
     "execution_count": 25,
     "metadata": {},
     "output_type": "execute_result"
    }
   ],
   "source": [
    "# del dict[key]\n",
    "\n",
    "del d_3[0]\n",
    "\n",
    "d_3\n"
   ]
  },
  {
   "cell_type": "markdown",
   "metadata": {},
   "source": [
    "##### Looping a Dictionary"
   ]
  },
  {
   "cell_type": "code",
   "execution_count": 32,
   "metadata": {},
   "outputs": [
    {
     "name": "stdout",
     "output_type": "stream",
     "text": [
      "Tom : 255 Main Street\n",
      "Jerry : 256 Main Street\n",
      "Spike : 257 Main Street Chicago,IL 60607\n"
     ]
    }
   ],
   "source": [
    "# .items()\n",
    "# a, b, c = 1, 2, 3\n",
    "\n",
    "for name, address in d_3.items():\n",
    "    print(name, ':', address)"
   ]
  },
  {
   "cell_type": "markdown",
   "metadata": {},
   "source": [
    "##### Looping Only Keys"
   ]
  },
  {
   "cell_type": "code",
   "execution_count": 35,
   "metadata": {},
   "outputs": [
    {
     "name": "stdout",
     "output_type": "stream",
     "text": [
      "Tom\n",
      "Jerry\n",
      "Spike\n"
     ]
    }
   ],
   "source": [
    "# .keys()\n",
    "for name in d_3.keys():\n",
    "    print(name)"
   ]
  },
  {
   "cell_type": "markdown",
   "metadata": {},
   "source": [
    "##### Looping Only Values"
   ]
  },
  {
   "cell_type": "code",
   "execution_count": 36,
   "metadata": {},
   "outputs": [
    {
     "name": "stdout",
     "output_type": "stream",
     "text": [
      "['255 Main Street', '256 Main Street', '257 Main Street Chicago,IL 60607']\n"
     ]
    }
   ],
   "source": [
    "value_list = [val for val in d_3.values()]\n",
    "print(value_list)"
   ]
  },
  {
   "cell_type": "code",
   "execution_count": null,
   "metadata": {
    "scrolled": false
   },
   "outputs": [],
   "source": []
  },
  {
   "cell_type": "code",
   "execution_count": 9,
   "metadata": {
    "scrolled": true
   },
   "outputs": [],
   "source": [
    "# .values()\n"
   ]
  },
  {
   "cell_type": "markdown",
   "metadata": {},
   "source": [
    "## In-Class Exercise #2 - Create a Function that Prints All Key Value Pairs within a print .format() <br>\n",
    "<p><b>Output should be:</b><br>\n",
    "Max has blue eyes<br>\n",
    "Lilly has brown eyes<br>\n",
    "Barney has blue eyes<br>\n",
    "etc.\n",
    "</p>"
   ]
  },
  {
   "cell_type": "code",
   "execution_count": 52,
   "metadata": {},
   "outputs": [
    {
     "name": "stdout",
     "output_type": "stream",
     "text": [
      "Max has blue eyes.\n",
      "Lilly has brown eyes.\n",
      "Barney has blue eyes.\n",
      "Larney has brown eyes.\n",
      "Ted has purple eyes.\n"
     ]
    }
   ],
   "source": [
    "# use the dict below\n",
    "people = {\n",
    "    'Max': 'blue',\n",
    "    'Lilly': 'brown',\n",
    "    'Barney': 'blue',\n",
    "    'Larney': 'brown',\n",
    "    'Ted': 'purple'\n",
    "}\n",
    "# for name, color in people.items():\n",
    "#     print(name, 'has', color, 'eyes')\n",
    "\n",
    "# eyes = \"{} has {} eyes.\"\n",
    "# print(eyes.format(name, color))\n",
    "\n",
    "def people_eye_color():\n",
    "    for key, value in people.items():\n",
    "        print(key + \" has \" + value + \" eyes.\")\n",
    "\n",
    "people_eye_color()"
   ]
  },
  {
   "cell_type": "markdown",
   "metadata": {},
   "source": [
    "##### sorted()"
   ]
  },
  {
   "cell_type": "code",
   "execution_count": 56,
   "metadata": {},
   "outputs": [
    {
     "name": "stdout",
     "output_type": "stream",
     "text": [
      "['Barney', 'Larney', 'Lilly', 'Max', 'Ted']\n",
      "['blue', 'blue', 'brown', 'brown', 'purple']\n",
      "[('Barney', 'blue'), ('Larney', 'brown'), ('Lilly', 'brown'), ('Max', 'blue'), ('Ted', 'purple')]\n"
     ]
    }
   ],
   "source": [
    "# sorts variables in order\n",
    "# sorted(dict.values()) or dict.keys() or dict.items()\n",
    "print(sorted(people.keys()))\n",
    "print(sorted(people.values()))\n",
    "print(sorted(people.items()))"
   ]
  },
  {
   "cell_type": "markdown",
   "metadata": {},
   "source": [
    "##### List with Dictionaries"
   ]
  },
  {
   "cell_type": "code",
   "execution_count": 60,
   "metadata": {},
   "outputs": [
    {
     "name": "stdout",
     "output_type": "stream",
     "text": [
      "Rob\n",
      "random_girl\n",
      "random_guy\n",
      "anonymous_girl\n"
     ]
    }
   ],
   "source": [
    "names = ['Dave', 'Sandy','Tony', {'random_girl': 'Barb','random_guy':'Rob'},['anonymous_guy', 'anonymous_girl']]\n",
    "print(names[3]['random_guy'])\n",
    "\n",
    "for key in names[3]:\n",
    "    print(key)\n",
    "\n",
    "print(names[4][1])"
   ]
  },
  {
   "cell_type": "markdown",
   "metadata": {},
   "source": [
    "##### Dictionaries with Lists"
   ]
  },
  {
   "cell_type": "code",
   "execution_count": 62,
   "metadata": {},
   "outputs": [
    {
     "name": "stdout",
     "output_type": "stream",
     "text": [
      "Johnson\n",
      "45\n",
      "46\n",
      "47\n"
     ]
    }
   ],
   "source": [
    "# be careful when using numbers as keys in dictionaries, don't confuse them with indexes\n",
    "\n",
    "random_data = {\n",
    "    \"list_1\": [45,46,47],\n",
    "    '2': ['Johnson']\n",
    "}\n",
    "print(random_data['2'][0])\n",
    "\n",
    "for i in random_data['list_1']:\n",
    "    print(i)"
   ]
  },
  {
   "cell_type": "markdown",
   "metadata": {},
   "source": [
    "##### Dictionaries with Dictionaries"
   ]
  },
  {
   "cell_type": "code",
   "execution_count": 123,
   "metadata": {},
   "outputs": [
    {
     "name": "stdout",
     "output_type": "stream",
     "text": [
      "Terrell Favorite food groups are Latin\n",
      "Terrell Favorite food groups are noodles\n",
      "Ryan Favorite food groups are Latin\n",
      "Ryan Favorite food groups are Desserts\n",
      "josh Favorite food groups are latin\n",
      "josh Favorite food groups are noodles\n",
      "Brad Favorite food groups are Mexican\n",
      "Brad Favorite food groups are Desserts\n",
      "Jackie Favorite food groups are Latin\n",
      "Jackie Favorite food groups are Asian\n",
      "Michael Cook Favorite food groups are Bread\n",
      "Michael Cook Favorite food groups are noodles\n",
      "Garrett Favorite food groups are Asain\n",
      "Garrett Favorite food groups are Mexican\n",
      "Garrett Favorite food groups are American\n",
      "Alex Favorite food groups are latin\n",
      "Alex Favorite food groups are noodles\n",
      "Jess Favorite food groups are Latin\n",
      "Jess Favorite food groups are American\n",
      "Hootie Favorite food groups are latin\n",
      "Hootie Favorite food groups are italian\n",
      "Faiber Favorite food groups are latin\n",
      "Faiber Favorite food groups are Bakes\n",
      "Dom Favorite food groups are italian\n",
      "Dom Favorite food groups are midwestern\n",
      "Dominic Favorite food groups are Italian\n",
      "Dominic Favorite food groups are Mexican\n"
     ]
    }
   ],
   "source": [
    "# to get values, must traverse through keys\n",
    "food_dict = {\n",
    "\"Terrell\": {\n",
    "    \"Latin\": ['Taco','Arepa','Empanada'],\n",
    "    'noodles': ['instant','Pho','Ramen']\n",
    "},\n",
    " \"Ryan\": {\n",
    "    \"Latin\": [\"Tacos\",'Tacos','Tacos'],\n",
    "    \"Desserts\": [\"pie\",'ice cream','cookies']\n",
    "},\n",
    "\"josh\": {\n",
    "    \"latin\": ['Taco','quesadilla','torta'],\n",
    "    'noodles': ['vermacelli','Pho','tsukemen']\n",
    "},\n",
    "\"Brad\": {\n",
    "    \"Mexican\": ['Taco', 'Burrito'],\n",
    "    \"Desserts\": ['ice cream', 'cookies']\n",
    "},\n",
    "\"Jackie\": {\n",
    "    \"Latin\": [\"Tacos\",'Quesadillas','Papusas'],\n",
    "    \"Asian\": [\"Pho\", 'KBBQ','Hot Pot']\n",
    "},\n",
    "\"Michael Cook\": {\n",
    "    \"Bread\": [\"Foccacia\", \"Boule\", \"Joe\"],\n",
    "    \"noodles\": [\"linguini\", \"farfale\", \"elbow\"]\n",
    "},\n",
    "\"Garrett\": {\n",
    "    \"Asain\": [\"drunken noodles\", 'sushi', 'pad thia', 'chow mein'],\n",
    "    \"Mexican\" : [\"taco\", \"quesidilla\", \"chimichanga\"],\n",
    "    \"American\" : [\"hamburger\", \"beer\", \"fries\", \"cheese steak\"]\n",
    "},\n",
    "\"Alex\" : {\n",
    "    \"latin\" : ['Papusas', 'Tomales', 'Taco'],\n",
    "    \"noodles\" : ['Ramen', 'Pho', 'Spaghetti']  \n",
    "},\n",
    "\"Jess\": {\n",
    "    \"Latin\": [\"Burrito\",'Arepa','Empanadas'],\n",
    "    \"American\": [\"Chicken Salad\",'Chicken Sandwich','fries']\n",
    "},\n",
    "\"Hootie\": {\n",
    "    \"latin\": [\"coxhinas\", \"burritos\", \"qusadilla\"],\n",
    "    \"italian\": [\"spaghetti\", \"nno pasta\", \"meatballs\"]\n",
    "},\n",
    "'Faiber' : {\n",
    "    'latin' : ['Burrito','Emapanadas','Taquitos'],\n",
    "        'Bakes' : ['Bunuleos','Pan de Yuca','Pandebono']\n",
    "},\n",
    "\"Dom\" : {\n",
    "    \"italian\": ['filled pasta','sausage','cannoli'],\n",
    "    'midwestern':['corn','corn','corn']\n",
    "},\n",
    "\"Dominic\":{\n",
    "    \"Italian\":['Pizza','Ravioli','Tortellini'],\n",
    "    \"Mexican\":['Tacos','enchilada']\n",
    "}\n",
    "}\n",
    "# for key in food_dict:\n",
    "#     print(key)\n",
    "\n",
    "# for key, value in food_dict.items():\n",
    "#     print(key, value)\n",
    "\n",
    "for name, food in food_dict.items():\n",
    "    for food_type in food.keys():\n",
    "        print(name, \"Favorite food groups are\", food_type)\n"
   ]
  },
  {
   "cell_type": "code",
   "execution_count": null,
   "metadata": {},
   "outputs": [],
   "source": []
  },
  {
   "cell_type": "code",
   "execution_count": null,
   "metadata": {},
   "outputs": [],
   "source": []
  },
  {
   "cell_type": "markdown",
   "metadata": {},
   "source": [
    "## Dictionaries vs. Lists (over time) Example of RUNTIME\n",
    "### When inputting values in a Dictionary vs List"
   ]
  },
  {
   "cell_type": "code",
   "execution_count": 125,
   "metadata": {},
   "outputs": [],
   "source": [
    "import time\n",
    "\n",
    "# Generate a dictionary\n",
    "d = {}\n",
    "\n",
    "for i in range(10000000):\n",
    "    d[i] = \"value \" + str(i)\n",
    "\n",
    "# Generate a list\n",
    "big_list = [x for x in range(10000000)]"
   ]
  },
  {
   "cell_type": "code",
   "execution_count": 127,
   "metadata": {},
   "outputs": [
    {
     "name": "stdout",
     "output_type": "stream",
     "text": [
      "value 9999999\n",
      "Elapsed time for dictionary:  0.0\n",
      "9999999\n",
      "Elapsed time for list:  1.2705581188201904\n"
     ]
    }
   ],
   "source": [
    "# Track the time for the dictionary\n",
    "start_time = time.time()\n",
    "print(d[9999999])\n",
    "\n",
    "end_time = time.time() - start_time\n",
    "print(f\"Elapsed time for dictionary:  {end_time}\")\n",
    "\n",
    "# Track time for the list\n",
    "\n",
    "start_time = time.time()\n",
    "\n",
    "for i in range(len(big_list)):\n",
    "    if i == 9999999:\n",
    "        print(i)\n",
    "end_time = time.time() - start_time\n",
    "print(f\"Elapsed time for list:  {end_time}\")"
   ]
  },
  {
   "cell_type": "markdown",
   "metadata": {},
   "source": [
    "## Exercise #3 - Write a Function that asks someone's name and address, and then stores that into a dictionary, and continues to do so until they choose to 'quit'. Once they quit, the program should print all names and addresses. <br>\n",
    "<p>\n",
    "<b>Proper steps:</b><br>\n",
    "step 1: write a function that takes in information and stores it in a dictionary<br>\n",
    "step 2: define an empty dictionary to work with<br>\n",
    "step 3: create our loop, which asks the user for information until they quit<br>\n",
    "step 4: ask for the information, and store it into variables<br>\n",
    "step 5: check if the user types quit<br>\n",
    "step 5a: print out all information<br>\n",
    "step 5b: break out of the loop<br>\n",
    "step 6: if they didn't quit, add the information to the dictionary<br>\n",
    "step 7: invoke the function by calling it\n",
    "</p>"
   ]
  },
  {
   "cell_type": "code",
   "execution_count": 2,
   "metadata": {},
   "outputs": [
    {
     "name": "stdout",
     "output_type": "stream",
     "text": [
      "dom lives at chicago, il\n",
      "defne lives at hoffman,Il\n"
     ]
    }
   ],
   "source": [
    "from IPython.display import clear_output\n",
    "# Step 1\n",
    "\n",
    "def storeInfo():\n",
    "    info = {}\n",
    "    while True:\n",
    "        name = input('What is your name? ')\n",
    "        if name == \"quit\":\n",
    "            break\n",
    "        address = input('What is your address? ')\n",
    "        if name == \"quit\":\n",
    "            break\n",
    "        info[name] = address\n",
    "    for key, value in info.items():\n",
    "        print(f\"{key} lives at {value}\")\n",
    "\n",
    "\n",
    "storeInfo()\n",
    "\n",
    "\n",
    "        "
   ]
  },
  {
   "cell_type": "markdown",
   "metadata": {},
   "source": [
    "## Set <br>\n",
    "<p>A Set is an unordered collection data type that is iterable (loop), mutable, and has no duplicate elements.<br>Major advantage is that it is highly optimized in checking if something is in the set, as opposed to checking if something is in a list.</p>"
   ]
  },
  {
   "cell_type": "markdown",
   "metadata": {},
   "source": [
    "##### Declaring"
   ]
  },
  {
   "cell_type": "code",
   "execution_count": 6,
   "metadata": {},
   "outputs": [
    {
     "name": "stdout",
     "output_type": "stream",
     "text": [
      "{8, 1, 4}\n",
      "3\n"
     ]
    },
    {
     "data": {
      "text/plain": [
       "['__and__',\n",
       " '__class__',\n",
       " '__class_getitem__',\n",
       " '__contains__',\n",
       " '__delattr__',\n",
       " '__dir__',\n",
       " '__doc__',\n",
       " '__eq__',\n",
       " '__format__',\n",
       " '__ge__',\n",
       " '__getattribute__',\n",
       " '__gt__',\n",
       " '__hash__',\n",
       " '__iand__',\n",
       " '__init__',\n",
       " '__init_subclass__',\n",
       " '__ior__',\n",
       " '__isub__',\n",
       " '__iter__',\n",
       " '__ixor__',\n",
       " '__le__',\n",
       " '__len__',\n",
       " '__lt__',\n",
       " '__ne__',\n",
       " '__new__',\n",
       " '__or__',\n",
       " '__rand__',\n",
       " '__reduce__',\n",
       " '__reduce_ex__',\n",
       " '__repr__',\n",
       " '__ror__',\n",
       " '__rsub__',\n",
       " '__rxor__',\n",
       " '__setattr__',\n",
       " '__sizeof__',\n",
       " '__str__',\n",
       " '__sub__',\n",
       " '__subclasshook__',\n",
       " '__xor__',\n",
       " 'add',\n",
       " 'clear',\n",
       " 'copy',\n",
       " 'difference',\n",
       " 'difference_update',\n",
       " 'discard',\n",
       " 'intersection',\n",
       " 'intersection_update',\n",
       " 'isdisjoint',\n",
       " 'issubset',\n",
       " 'issuperset',\n",
       " 'pop',\n",
       " 'remove',\n",
       " 'symmetric_difference',\n",
       " 'symmetric_difference_update',\n",
       " 'union',\n",
       " 'update']"
      ]
     },
     "execution_count": 6,
     "metadata": {},
     "output_type": "execute_result"
    }
   ],
   "source": [
    "# set() or {}\n",
    "# no order {3, 2, 1} outputs as {1, 2, 3}\n",
    "s = set\n",
    "\n",
    "nums = {4,1,8,4}\n",
    "print(nums)\n",
    "print(len(nums))\n",
    "dir(nums)"
   ]
  },
  {
   "cell_type": "markdown",
   "metadata": {},
   "source": [
    "##### .add()"
   ]
  },
  {
   "cell_type": "code",
   "execution_count": 7,
   "metadata": {},
   "outputs": [
    {
     "name": "stdout",
     "output_type": "stream",
     "text": [
      "{8, 1, 4, 22}\n"
     ]
    }
   ],
   "source": [
    "# set.add()\n",
    "nums.add(22)\n",
    "print(nums)"
   ]
  },
  {
   "cell_type": "markdown",
   "metadata": {},
   "source": [
    "##### .remove()"
   ]
  },
  {
   "cell_type": "code",
   "execution_count": 8,
   "metadata": {},
   "outputs": [
    {
     "name": "stdout",
     "output_type": "stream",
     "text": [
      "{8, 1, 4}\n"
     ]
    }
   ],
   "source": [
    "# removes by value\n",
    "# set.remove()\n",
    "# nums.remove(56)\n",
    "nums.remove(22)\n",
    "print(nums)"
   ]
  },
  {
   "cell_type": "markdown",
   "metadata": {},
   "source": [
    "##### .union() "
   ]
  },
  {
   "cell_type": "code",
   "execution_count": 9,
   "metadata": {},
   "outputs": [
    {
     "name": "stdout",
     "output_type": "stream",
     "text": [
      "{1, 2, 3, 4, 5, 6}\n",
      "{1, 2, 3, 4, 5, 6}\n"
     ]
    }
   ],
   "source": [
    "# Returns a union of two sets, can also use '|' or set.union(set)\n",
    "# joins all numbers, gets rid of duplicates\n",
    "\n",
    "s1 = {1,2,3,4}\n",
    "s2 = {3,4,5,6}\n",
    "\n",
    "s3 = s1.union(s2)\n",
    "\n",
    "#or\n",
    "s4 = s1 | s2\n",
    "\n",
    "print(s3)\n",
    "print(s4)"
   ]
  },
  {
   "cell_type": "markdown",
   "metadata": {},
   "source": [
    "##### .intersection()"
   ]
  },
  {
   "cell_type": "code",
   "execution_count": 11,
   "metadata": {},
   "outputs": [
    {
     "name": "stdout",
     "output_type": "stream",
     "text": [
      "{3, 4}\n",
      "{3, 4}\n"
     ]
    }
   ],
   "source": [
    "# Returns an intersection of two sets, can also use '&'\n",
    "# only takes similar elements from both sets\n",
    "s5 = s1.intersection(s2)\n",
    "\n",
    "print(s5)\n",
    "#or\n",
    "\n",
    "s6 = s1 & s2\n",
    "print(s6)"
   ]
  },
  {
   "cell_type": "markdown",
   "metadata": {},
   "source": [
    "##### .difference()"
   ]
  },
  {
   "cell_type": "code",
   "execution_count": 17,
   "metadata": {},
   "outputs": [
    {
     "name": "stdout",
     "output_type": "stream",
     "text": [
      "{1, 2}\n",
      "{5, 6}\n"
     ]
    }
   ],
   "source": [
    "# Returns a set containing all the elements of invoking set that are not in the second set, can also use '-'\n",
    "# only takes values from the first set that are not in the second set\n",
    "# order matters\n",
    "\n",
    "s7 = s1.difference(s2)\n",
    "print(s7)\n",
    "\n",
    "s8 = s2 - s1\n",
    "print(s8)"
   ]
  },
  {
   "cell_type": "markdown",
   "metadata": {},
   "source": [
    "##### .clear()"
   ]
  },
  {
   "cell_type": "code",
   "execution_count": 18,
   "metadata": {},
   "outputs": [
    {
     "name": "stdout",
     "output_type": "stream",
     "text": [
      "set()\n"
     ]
    }
   ],
   "source": [
    "# Empties the whole set\n",
    "# set.clear()\n",
    "s8.clear()\n",
    "print(s8)"
   ]
  },
  {
   "cell_type": "code",
   "execution_count": null,
   "metadata": {},
   "outputs": [],
   "source": []
  },
  {
   "cell_type": "markdown",
   "metadata": {},
   "source": [
    "##### Frozenset <br>\n",
    "<p>Frozen sets are immutable objects that only support methods and operators that produce a result without affecting the frozen set or sets to which they are applied.</p><br><b>Unique & Immutable</b>"
   ]
  },
  {
   "cell_type": "code",
   "execution_count": 21,
   "metadata": {},
   "outputs": [
    {
     "name": "stdout",
     "output_type": "stream",
     "text": [
      "frozenset({1, 2, 3, 4, 5, 6})\n"
     ]
    },
    {
     "ename": "AttributeError",
     "evalue": "'frozenset' object has no attribute 'add'",
     "output_type": "error",
     "traceback": [
      "\u001b[1;31m---------------------------------------------------------------------------\u001b[0m",
      "\u001b[1;31mAttributeError\u001b[0m                            Traceback (most recent call last)",
      "\u001b[1;32mc:\\Users\\domin\\Desktop\\coding_temple_rangers_87\\week_2\\day_3\\Wednesday_Lesson_Inclass-Updated-Lecture_Rangers87.ipynb Cell 58'\u001b[0m in \u001b[0;36m<cell line: 4>\u001b[1;34m()\u001b[0m\n\u001b[0;32m      <a href='vscode-notebook-cell:/c%3A/Users/domin/Desktop/coding_temple_rangers_87/week_2/day_3/Wednesday_Lesson_Inclass-Updated-Lecture_Rangers87.ipynb#ch0000057?line=1'>2</a>\u001b[0m my_frozen_set \u001b[39m=\u001b[39m \u001b[39mfrozenset\u001b[39m(s3)\n\u001b[0;32m      <a href='vscode-notebook-cell:/c%3A/Users/domin/Desktop/coding_temple_rangers_87/week_2/day_3/Wednesday_Lesson_Inclass-Updated-Lecture_Rangers87.ipynb#ch0000057?line=2'>3</a>\u001b[0m \u001b[39mprint\u001b[39m(my_frozen_set)\n\u001b[1;32m----> <a href='vscode-notebook-cell:/c%3A/Users/domin/Desktop/coding_temple_rangers_87/week_2/day_3/Wednesday_Lesson_Inclass-Updated-Lecture_Rangers87.ipynb#ch0000057?line=3'>4</a>\u001b[0m my_frozen_set\u001b[39m.\u001b[39;49madd(\u001b[39m22\u001b[39m)\n",
      "\u001b[1;31mAttributeError\u001b[0m: 'frozenset' object has no attribute 'add'"
     ]
    }
   ],
   "source": [
    "# frozenset([])\n",
    "my_frozen_set = frozenset(s3)\n",
    "print(my_frozen_set)\n",
    "my_frozen_set.add(22)"
   ]
  },
  {
   "cell_type": "markdown",
   "metadata": {},
   "source": [
    "## Modules"
   ]
  },
  {
   "cell_type": "markdown",
   "metadata": {},
   "source": [
    "##### Importing Entire Modules"
   ]
  },
  {
   "cell_type": "code",
   "execution_count": 23,
   "metadata": {},
   "outputs": [
    {
     "name": "stdout",
     "output_type": "stream",
     "text": [
      "3\n"
     ]
    }
   ],
   "source": [
    "# import \n",
    "# or \n",
    "# from 'xxx' import *\n",
    "import math\n",
    "\n",
    "print(math.floor(math.pi))"
   ]
  },
  {
   "cell_type": "markdown",
   "metadata": {},
   "source": [
    "##### Importing Methods Only"
   ]
  },
  {
   "cell_type": "code",
   "execution_count": 24,
   "metadata": {},
   "outputs": [
    {
     "name": "stdout",
     "output_type": "stream",
     "text": [
      "3\n"
     ]
    }
   ],
   "source": [
    "# from 'xxx' import 'xxx'\n",
    "# from math import floor\n",
    "\n",
    "from math import floor, pi\n",
    "print(floor(pi))"
   ]
  },
  {
   "cell_type": "markdown",
   "metadata": {},
   "source": [
    "##### Using the 'as' Keyword"
   ]
  },
  {
   "cell_type": "code",
   "execution_count": 25,
   "metadata": {},
   "outputs": [
    {
     "name": "stdout",
     "output_type": "stream",
     "text": [
      "3\n"
     ]
    }
   ],
   "source": [
    "# from 'xxx' import 'xxx' as 'xxx' or import 'xxx' as 'xxx'\n",
    "from math import floor as f, pi as p\n",
    "\n",
    "print(f(p))\n",
    "\n"
   ]
  },
  {
   "cell_type": "markdown",
   "metadata": {},
   "source": [
    "##### Creating a Module"
   ]
  },
  {
   "cell_type": "code",
   "execution_count": 26,
   "metadata": {},
   "outputs": [
    {
     "name": "stdout",
     "output_type": "stream",
     "text": [
      "Hello Mr/Ms Dominic...we've been waiting for you!\n"
     ]
    }
   ],
   "source": [
    "from module import printName as pn\n",
    "\n",
    "pn(\"Dominic\")"
   ]
  },
  {
   "cell_type": "markdown",
   "metadata": {},
   "source": [
    "# Exercises"
   ]
  },
  {
   "cell_type": "markdown",
   "metadata": {},
   "source": [
    "### 1) Build a Shopping Cart <br>\n",
    "<p><b>You can use either lists or dictionaries. The program should have the following capabilities:</b><br><br>\n",
    "1) Takes in input <br>\n",
    "2) Stores user input into a dictionary or list <br>\n",
    "3) The User can add or delete items <br>\n",
    "4) The User can see current shopping list <br>\n",
    "5) The program Loops until user 'quits' <br>\n",
    "6) Upon quiting the program, print out all items in the user's list <br>\n",
    "</p>"
   ]
  },
  {
   "cell_type": "code",
   "execution_count": 2,
   "metadata": {},
   "outputs": [
    {
     "name": "stdout",
     "output_type": "stream",
     "text": [
      "chicken was added to your cart for $10.\n",
      "bananas was added to your cart for $1.\n",
      "ribs was added to your cart for $20.\n",
      "ribs was taken out of your cart.\n",
      "\n",
      "Thank you for shopping!\n",
      "\n",
      "Receipt:\n",
      "chicken......................$10.\n",
      "bananas......................$1.\n"
     ]
    }
   ],
   "source": [
    "from IPython.display import clear_output\n",
    "\n",
    "# Ask the user four bits of input: Do you want to : Show/Add/Delete or Quit?\n",
    "def shopping_cart():\n",
    "    items = {}\n",
    "    while True:\n",
    "        cart = input('What would you like to do? (a) to add, (d) to delete, or (q) to quit and see your list.')\n",
    "        if cart == 'a':\n",
    "           item = input('What would you like to add') \n",
    "           price = input('how much does this cost?')\n",
    "           items[item] = price\n",
    "           print(f\"{item} was added to your cart for ${price}\")\n",
    "        if cart == 'd':\n",
    "            remove = input(\"What would you like to delete?\")\n",
    "            del items[remove]\n",
    "            print(f\"{remove} was taken out of your cart.\")\n",
    "        if cart == 'q':\n",
    "            print('\\nThank you for shopping!\\n\\nReceipt:')\n",
    "            break\n",
    "        \n",
    "    for key, value in items.items():\n",
    "        print(f\"{key}......................${value}\")\n",
    "\n",
    "shopping_cart()\n"
   ]
  },
  {
   "cell_type": "markdown",
   "metadata": {},
   "source": [
    "### 2) Create a Module in VS Code and Import It into jupyter notebook <br>\n",
    "<p><b>Module should have the following capabilities:</b><br><br>\n",
    "1) Has a function to calculate the square footage of a house <br>\n",
    "    <b>Reminder of Formula: Length X Width == Area<br>\n",
    "        <hr>\n",
    "2) Has a function to calculate the circumference of a circle <br><br>\n",
    "<b>Program in Jupyter Notebook should take in user input and use imported functions to calculate a circle's circumference or a houses square footage</b>\n",
    "</p>"
   ]
  },
  {
   "cell_type": "code",
   "execution_count": 4,
   "metadata": {},
   "outputs": [
    {
     "name": "stdout",
     "output_type": "stream",
     "text": [
      "200\n",
      "18.84\n"
     ]
    }
   ],
   "source": [
    "from p_module import formula1 as f1, formula2 as f2\n",
    "\n",
    "f1(20,10)\n",
    "\n",
    "f2(3)"
   ]
  },
  {
   "cell_type": "code",
   "execution_count": null,
   "metadata": {},
   "outputs": [],
   "source": []
  }
 ],
 "metadata": {
  "kernelspec": {
   "display_name": "Python 3",
   "language": "python",
   "name": "python3"
  },
  "language_info": {
   "codemirror_mode": {
    "name": "ipython",
    "version": 3
   },
   "file_extension": ".py",
   "mimetype": "text/x-python",
   "name": "python",
   "nbconvert_exporter": "python",
   "pygments_lexer": "ipython3",
   "version": "3.9.9"
  }
 },
 "nbformat": 4,
 "nbformat_minor": 2
}
